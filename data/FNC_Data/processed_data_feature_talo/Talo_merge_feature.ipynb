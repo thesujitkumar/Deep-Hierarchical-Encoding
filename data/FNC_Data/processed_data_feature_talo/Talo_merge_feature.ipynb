{
 "cells": [
  {
   "cell_type": "code",
   "execution_count": 1,
   "metadata": {},
   "outputs": [],
   "source": [
    "import pandas as pd"
   ]
  },
  {
   "cell_type": "code",
   "execution_count": 2,
   "metadata": {},
   "outputs": [],
   "source": [
    "test_count=pd.read_excel(\"test.basic.xlsx\")"
   ]
  },
  {
   "cell_type": "code",
   "execution_count": 3,
   "metadata": {},
   "outputs": [
    {
     "data": {
      "text/plain": [
       "Index(['count_of_Headline_unigram', 'count_of_unique_Headline_unigram',\n",
       "       'ratio_of_unique_Headline_unigram', 'count_of_Headline_bigram',\n",
       "       'count_of_unique_Headline_bigram', 'ratio_of_unique_Headline_bigram',\n",
       "       'count_of_Headline_trigram', 'count_of_unique_Headline_trigram',\n",
       "       'ratio_of_unique_Headline_trigram', 'count_of_articleBody_unigram',\n",
       "       'count_of_unique_articleBody_unigram',\n",
       "       'ratio_of_unique_articleBody_unigram', 'count_of_articleBody_bigram',\n",
       "       'count_of_unique_articleBody_bigram',\n",
       "       'ratio_of_unique_articleBody_bigram', 'count_of_articleBody_trigram',\n",
       "       'count_of_unique_articleBody_trigram',\n",
       "       'ratio_of_unique_articleBody_trigram',\n",
       "       'count_of_Headline_unigram_in_articleBody',\n",
       "       'ratio_of_Headline_unigram_in_articleBody',\n",
       "       'count_of_Headline_bigram_in_articleBody',\n",
       "       'ratio_of_Headline_bigram_in_articleBody',\n",
       "       'count_of_Headline_trigram_in_articleBody',\n",
       "       'ratio_of_Headline_trigram_in_articleBody', 'len_sent_Headline',\n",
       "       'len_sent_articleBody', 'fake_exist', 'fraud_exist', 'hoax_exist',\n",
       "       'false_exist', 'deny_exist', 'denies_exist', 'not_exist',\n",
       "       'despite_exist', 'nope_exist', 'doubt_exist', 'doubts_exist',\n",
       "       'bogus_exist', 'debunk_exist', 'pranks_exist', 'retract_exist'],\n",
       "      dtype='object')"
      ]
     },
     "execution_count": 3,
     "metadata": {},
     "output_type": "execute_result"
    }
   ],
   "source": [
    "test_count.columns"
   ]
  },
  {
   "cell_type": "code",
   "execution_count": 4,
   "metadata": {},
   "outputs": [],
   "source": [
    "no_word_head=test_count['count_of_Headline_unigram']\n",
    "no_word_body=test_count['count_of_articleBody_unigram']"
   ]
  },
  {
   "cell_type": "code",
   "execution_count": 5,
   "metadata": {},
   "outputs": [
    {
     "name": "stdout",
     "output_type": "stream",
     "text": [
      "30411\n"
     ]
    },
    {
     "data": {
      "text/plain": [
       "30411"
      ]
     },
     "execution_count": 5,
     "metadata": {},
     "output_type": "execute_result"
    }
   ],
   "source": [
    "print(len(no_word_head))\n",
    "len(no_word_body)"
   ]
  },
  {
   "cell_type": "code",
   "execution_count": 6,
   "metadata": {},
   "outputs": [
    {
     "name": "stdout",
     "output_type": "stream",
     "text": [
      "4998\n",
      "4998\n"
     ]
    }
   ],
   "source": [
    "no_word_head_dev=no_word_head[25413:30411] # number of word in each headline in development data sets\n",
    "print(len(no_word_head_dev))\n",
    "no_word_body_dev=no_word_body[25413:30411] # number of word in each Body in development data sets\n",
    "print(len(no_word_body_dev))"
   ]
  },
  {
   "cell_type": "code",
   "execution_count": 7,
   "metadata": {},
   "outputs": [
    {
     "name": "stdout",
     "output_type": "stream",
     "text": [
      "the average no word in headline in development data 8.503201280512204\n",
      "the average no word in Body in development data 213.7575030012005\n"
     ]
    }
   ],
   "source": [
    "avg_no_word_head_dev=sum(no_word_head_dev)/len(no_word_head_dev) # average number of words in headlines\n",
    "print(\"the average no word in headline in development data\",avg_no_word_head_dev)\n",
    "avg_no_word_body_dev=sum(no_word_body_dev)/len(no_word_body_dev) # average number of words in headlines\n",
    "print(\"the average no word in Body in development data\",avg_no_word_body_dev)"
   ]
  },
  {
   "cell_type": "code",
   "execution_count": 13,
   "metadata": {},
   "outputs": [
    {
     "name": "stdout",
     "output_type": "stream",
     "text": [
      "25413\n"
     ]
    },
    {
     "data": {
      "text/plain": [
       "25413"
      ]
     },
     "execution_count": 13,
     "metadata": {},
     "output_type": "execute_result"
    }
   ],
   "source": [
    "no_word_head_test=no_word_head[:25413]  # number of word in each headline in development data sets\n",
    "print(len(no_word_head_test))\n",
    "no_word_body_test=no_word_body[:25413]  # number of word in each headline in development data sets\n",
    "len(no_word_body_test)"
   ]
  },
  {
   "cell_type": "code",
   "execution_count": 14,
   "metadata": {},
   "outputs": [
    {
     "name": "stdout",
     "output_type": "stream",
     "text": [
      "the average no word in headline in test data 8.465509778459843\n",
      "the average no word in body in test data 216.37402117026718\n"
     ]
    }
   ],
   "source": [
    "avg_no_word_head_test=sum(no_word_head_test)/len(no_word_head_test) # average number of words in headlines Test Data sets\n",
    "print(\"the average no word in headline in test data\",avg_no_word_head_test)\n",
    "avg_no_word_body_test=sum(no_word_body_test)/len(no_word_body_test) # average number of words in headlines Test Data sets\n",
    "print(\"the average no word in body in test data\",avg_no_word_body_test)"
   ]
  },
  {
   "cell_type": "code",
   "execution_count": 16,
   "metadata": {},
   "outputs": [],
   "source": [
    "column_list  = test_count.columns"
   ]
  },
  {
   "cell_type": "code",
   "execution_count": 17,
   "metadata": {},
   "outputs": [
    {
     "data": {
      "text/plain": [
       "30411"
      ]
     },
     "execution_count": 17,
     "metadata": {},
     "output_type": "execute_result"
    }
   ],
   "source": [
    "len(test_count)"
   ]
  },
  {
   "cell_type": "code",
   "execution_count": 18,
   "metadata": {},
   "outputs": [
    {
     "data": {
      "text/plain": [
       "41"
      ]
     },
     "execution_count": 18,
     "metadata": {},
     "output_type": "execute_result"
    }
   ],
   "source": [
    "col_list=test_count.columns\n",
    "len(col_list)"
   ]
  },
  {
   "cell_type": "code",
   "execution_count": 22,
   "metadata": {},
   "outputs": [],
   "source": [
    "new_column_list = column_list[18:41] #+ column_list[10:15] "
   ]
  },
  {
   "cell_type": "code",
   "execution_count": 23,
   "metadata": {},
   "outputs": [
    {
     "name": "stdout",
     "output_type": "stream",
     "text": [
      "23\n"
     ]
    },
    {
     "data": {
      "text/plain": [
       "Index(['count_of_Headline_unigram_in_articleBody',\n",
       "       'ratio_of_Headline_unigram_in_articleBody',\n",
       "       'count_of_Headline_bigram_in_articleBody',\n",
       "       'ratio_of_Headline_bigram_in_articleBody',\n",
       "       'count_of_Headline_trigram_in_articleBody',\n",
       "       'ratio_of_Headline_trigram_in_articleBody', 'len_sent_Headline',\n",
       "       'len_sent_articleBody', 'fake_exist', 'fraud_exist', 'hoax_exist',\n",
       "       'false_exist', 'deny_exist', 'denies_exist', 'not_exist',\n",
       "       'despite_exist', 'nope_exist', 'doubt_exist', 'doubts_exist',\n",
       "       'bogus_exist', 'debunk_exist', 'pranks_exist', 'retract_exist'],\n",
       "      dtype='object')"
      ]
     },
     "execution_count": 23,
     "metadata": {},
     "output_type": "execute_result"
    }
   ],
   "source": [
    "print(len(new_column_list))\n",
    "new_column_list"
   ]
  },
  {
   "cell_type": "code",
   "execution_count": 24,
   "metadata": {},
   "outputs": [],
   "source": [
    "test_new = test_count[new_column_list]"
   ]
  },
  {
   "cell_type": "code",
   "execution_count": 26,
   "metadata": {},
   "outputs": [
    {
     "name": "stdout",
     "output_type": "stream",
     "text": [
      "(30411, 23)\n"
     ]
    }
   ],
   "source": [
    "print(test_new.shape)"
   ]
  },
  {
   "cell_type": "code",
   "execution_count": 41,
   "metadata": {},
   "outputs": [],
   "source": [
    "dev_count_feature= test_new[25413:30411]"
   ]
  },
  {
   "cell_type": "code",
   "execution_count": 42,
   "metadata": {},
   "outputs": [
    {
     "data": {
      "text/plain": [
       "(4998, 23)"
      ]
     },
     "execution_count": 42,
     "metadata": {},
     "output_type": "execute_result"
    }
   ],
   "source": [
    "dev_count_feature.shape"
   ]
  },
  {
   "cell_type": "code",
   "execution_count": 43,
   "metadata": {},
   "outputs": [
    {
     "data": {
      "text/plain": [
       "4998"
      ]
     },
     "execution_count": 43,
     "metadata": {},
     "output_type": "execute_result"
    }
   ],
   "source": [
    "len(dev_count_feature)"
   ]
  },
  {
   "cell_type": "code",
   "execution_count": 44,
   "metadata": {},
   "outputs": [],
   "source": [
    "test_count_feature=test_new[:25413]"
   ]
  },
  {
   "cell_type": "code",
   "execution_count": 45,
   "metadata": {},
   "outputs": [
    {
     "data": {
      "text/plain": [
       "(25413, 23)"
      ]
     },
     "execution_count": 45,
     "metadata": {},
     "output_type": "execute_result"
    }
   ],
   "source": [
    "test_count_feature.shape"
   ]
  },
  {
   "cell_type": "code",
   "execution_count": 46,
   "metadata": {},
   "outputs": [
    {
     "data": {
      "text/plain": [
       "25413"
      ]
     },
     "execution_count": 46,
     "metadata": {},
     "output_type": "execute_result"
    }
   ],
   "source": [
    "len(test_count_feature)"
   ]
  },
  {
   "cell_type": "code",
   "execution_count": 47,
   "metadata": {},
   "outputs": [],
   "source": [
    "test_tfid=pd.read_excel(\"test.sim.tfidf.xlsx\")  # Load  Test tfidf similairty feature"
   ]
  },
  {
   "cell_type": "code",
   "execution_count": 48,
   "metadata": {},
   "outputs": [
    {
     "data": {
      "text/plain": [
       "Int64Index([0], dtype='int64')"
      ]
     },
     "execution_count": 48,
     "metadata": {},
     "output_type": "execute_result"
    }
   ],
   "source": [
    "test_tfid.columns"
   ]
  },
  {
   "cell_type": "code",
   "execution_count": 50,
   "metadata": {},
   "outputs": [
    {
     "data": {
      "text/plain": [
       "(30411, 1)"
      ]
     },
     "execution_count": 50,
     "metadata": {},
     "output_type": "execute_result"
    }
   ],
   "source": [
    "test_tfid.shape"
   ]
  },
  {
   "cell_type": "code",
   "execution_count": 57,
   "metadata": {},
   "outputs": [],
   "source": [
    "dev_test_tfidf= test_tfid[25413:30411]"
   ]
  },
  {
   "cell_type": "code",
   "execution_count": 58,
   "metadata": {},
   "outputs": [
    {
     "data": {
      "text/plain": [
       "(4998, 1)"
      ]
     },
     "execution_count": 58,
     "metadata": {},
     "output_type": "execute_result"
    }
   ],
   "source": [
    "dev_test_tfidf.shape"
   ]
  },
  {
   "cell_type": "code",
   "execution_count": 64,
   "metadata": {},
   "outputs": [
    {
     "data": {
      "text/plain": [
       "(25413, 1)"
      ]
     },
     "execution_count": 64,
     "metadata": {},
     "output_type": "execute_result"
    }
   ],
   "source": [
    "test_tfid_sim=test_tfid[:25413]\n",
    "test_tfid_sim.shape"
   ]
  },
  {
   "cell_type": "code",
   "execution_count": 62,
   "metadata": {},
   "outputs": [],
   "source": [
    " dev_res= pd.concat([dev_count_feature, dev_test_tfidf], axis=1)"
   ]
  },
  {
   "cell_type": "code",
   "execution_count": 63,
   "metadata": {},
   "outputs": [
    {
     "data": {
      "text/plain": [
       "(4998, 24)"
      ]
     },
     "execution_count": 63,
     "metadata": {},
     "output_type": "execute_result"
    }
   ],
   "source": [
    "dev_res.shape"
   ]
  },
  {
   "cell_type": "code",
   "execution_count": 65,
   "metadata": {},
   "outputs": [],
   "source": [
    "test_res= pd.concat([test_count_feature, test_tfid_sim], axis=1)"
   ]
  },
  {
   "cell_type": "code",
   "execution_count": 66,
   "metadata": {},
   "outputs": [
    {
     "data": {
      "text/plain": [
       "(25413, 24)"
      ]
     },
     "execution_count": 66,
     "metadata": {},
     "output_type": "execute_result"
    }
   ],
   "source": [
    "test_res.shape"
   ]
  },
  {
   "cell_type": "code",
   "execution_count": 67,
   "metadata": {},
   "outputs": [],
   "source": [
    "test_svd_sim=pd.read_excel(\"test.sim.svd.xlsx\") "
   ]
  },
  {
   "cell_type": "code",
   "execution_count": 68,
   "metadata": {},
   "outputs": [],
   "source": [
    "test_svd_head=pd.read_excel(\"test.headline.svd.xlsx\") \n",
    "test_svd_body=pd.read_excel(\"test.body.svd.xlsx\") \n"
   ]
  },
  {
   "cell_type": "code",
   "execution_count": 69,
   "metadata": {},
   "outputs": [],
   "source": [
    "final_test_svd=pd.concat([test_svd_body, test_svd_head,test_svd_sim], axis=1)"
   ]
  },
  {
   "cell_type": "code",
   "execution_count": 71,
   "metadata": {},
   "outputs": [
    {
     "data": {
      "text/plain": [
       "(30411, 101)"
      ]
     },
     "execution_count": 71,
     "metadata": {},
     "output_type": "execute_result"
    }
   ],
   "source": [
    "final_test_svd.shape"
   ]
  },
  {
   "cell_type": "code",
   "execution_count": 73,
   "metadata": {},
   "outputs": [
    {
     "data": {
      "text/plain": [
       "(4998, 101)"
      ]
     },
     "execution_count": 73,
     "metadata": {},
     "output_type": "execute_result"
    }
   ],
   "source": [
    "dev_svd=final_test_svd[25413:30411]\n",
    "dev_svd.shape"
   ]
  },
  {
   "cell_type": "code",
   "execution_count": 74,
   "metadata": {},
   "outputs": [],
   "source": [
    "test_svd=final_test_svd[:25413]"
   ]
  },
  {
   "cell_type": "code",
   "execution_count": 75,
   "metadata": {},
   "outputs": [
    {
     "data": {
      "text/plain": [
       "(25413, 101)"
      ]
     },
     "execution_count": 75,
     "metadata": {},
     "output_type": "execute_result"
    }
   ],
   "source": [
    "test_svd.shape"
   ]
  },
  {
   "cell_type": "code",
   "execution_count": 76,
   "metadata": {},
   "outputs": [],
   "source": [
    "test_senti_head=pd.read_excel(\"test.headline.senti.xlsx\") \n",
    "test_senti_body=pd.read_excel(\"test.body.senti.xlsx\") "
   ]
  },
  {
   "cell_type": "code",
   "execution_count": 79,
   "metadata": {},
   "outputs": [
    {
     "data": {
      "text/plain": [
       "Index(['h_compound', 'h_neg', 'h_neu', 'h_pos'], dtype='object')"
      ]
     },
     "execution_count": 79,
     "metadata": {},
     "output_type": "execute_result"
    }
   ],
   "source": [
    "sent_column_list=test_senti_head.columns\n",
    "sent_column_list"
   ]
  },
  {
   "cell_type": "code",
   "execution_count": 80,
   "metadata": {},
   "outputs": [],
   "source": [
    "test_head_senti=test_senti_head[sent_column_list]"
   ]
  },
  {
   "cell_type": "code",
   "execution_count": 83,
   "metadata": {},
   "outputs": [
    {
     "data": {
      "text/plain": [
       "(30411, 4)"
      ]
     },
     "execution_count": 83,
     "metadata": {},
     "output_type": "execute_result"
    }
   ],
   "source": [
    "test_head_senti.shape"
   ]
  },
  {
   "cell_type": "code",
   "execution_count": 85,
   "metadata": {},
   "outputs": [
    {
     "data": {
      "text/plain": [
       "Index(['b_compound', 'b_neg', 'b_neu', 'b_pos'], dtype='object')"
      ]
     },
     "execution_count": 85,
     "metadata": {},
     "output_type": "execute_result"
    }
   ],
   "source": [
    "sent_column_list=test_senti_body.columns\n",
    "sent_column_list"
   ]
  },
  {
   "cell_type": "code",
   "execution_count": 86,
   "metadata": {},
   "outputs": [],
   "source": [
    "test_body_senti=test_senti_body[sent_column_list]"
   ]
  },
  {
   "cell_type": "code",
   "execution_count": 87,
   "metadata": {},
   "outputs": [
    {
     "data": {
      "text/plain": [
       "(30411, 4)"
      ]
     },
     "execution_count": 87,
     "metadata": {},
     "output_type": "execute_result"
    }
   ],
   "source": [
    "test_body_senti.shape"
   ]
  },
  {
   "cell_type": "code",
   "execution_count": 88,
   "metadata": {},
   "outputs": [],
   "source": [
    "final_senti=pd.concat([test_body_senti, test_head_senti], axis=1)"
   ]
  },
  {
   "cell_type": "code",
   "execution_count": 89,
   "metadata": {},
   "outputs": [
    {
     "data": {
      "text/plain": [
       "(30411, 8)"
      ]
     },
     "execution_count": 89,
     "metadata": {},
     "output_type": "execute_result"
    }
   ],
   "source": [
    "final_senti.shape"
   ]
  },
  {
   "cell_type": "code",
   "execution_count": 91,
   "metadata": {},
   "outputs": [],
   "source": [
    "final_dev_senti=final_senti[25413:30411]"
   ]
  },
  {
   "cell_type": "code",
   "execution_count": 92,
   "metadata": {},
   "outputs": [
    {
     "data": {
      "text/plain": [
       "(4998, 8)"
      ]
     },
     "execution_count": 92,
     "metadata": {},
     "output_type": "execute_result"
    }
   ],
   "source": [
    "final_dev_senti.shape"
   ]
  },
  {
   "cell_type": "code",
   "execution_count": 93,
   "metadata": {},
   "outputs": [],
   "source": [
    "final_test_senti=final_senti[:25413]"
   ]
  },
  {
   "cell_type": "code",
   "execution_count": 94,
   "metadata": {},
   "outputs": [
    {
     "data": {
      "text/plain": [
       "(25413, 8)"
      ]
     },
     "execution_count": 94,
     "metadata": {},
     "output_type": "execute_result"
    }
   ],
   "source": [
    "final_test_senti.shape"
   ]
  },
  {
   "cell_type": "code",
   "execution_count": 95,
   "metadata": {},
   "outputs": [],
   "source": [
    "test_res= pd.concat([test_res, test_svd,final_test_senti], axis=1)"
   ]
  },
  {
   "cell_type": "code",
   "execution_count": 96,
   "metadata": {},
   "outputs": [
    {
     "data": {
      "text/plain": [
       "(25413, 133)"
      ]
     },
     "execution_count": 96,
     "metadata": {},
     "output_type": "execute_result"
    }
   ],
   "source": [
    "test_res.shape"
   ]
  },
  {
   "cell_type": "code",
   "execution_count": 97,
   "metadata": {},
   "outputs": [],
   "source": [
    "dev_res= pd.concat([dev_res, dev_svd,final_dev_senti], axis=1)"
   ]
  },
  {
   "cell_type": "code",
   "execution_count": 98,
   "metadata": {},
   "outputs": [
    {
     "data": {
      "text/plain": [
       "(4998, 133)"
      ]
     },
     "execution_count": 98,
     "metadata": {},
     "output_type": "execute_result"
    }
   ],
   "source": [
    "dev_res.shape"
   ]
  },
  {
   "cell_type": "code",
   "execution_count": 99,
   "metadata": {},
   "outputs": [],
   "source": [
    "# Write results to CSV\n",
    "dev_res.to_excel(\"FNC_Bin_dev_merged_talo_feature.xlsx\",index=False)\n"
   ]
  },
  {
   "cell_type": "code",
   "execution_count": 100,
   "metadata": {},
   "outputs": [],
   "source": [
    "test_res.to_excel(\"FNC_Bin_test_merged_talo_feature.xlsx\",index=False)"
   ]
  },
  {
   "cell_type": "code",
   "execution_count": null,
   "metadata": {},
   "outputs": [],
   "source": [
    "# Train CSV File"
   ]
  },
  {
   "cell_type": "code",
   "execution_count": null,
   "metadata": {},
   "outputs": [],
   "source": []
  },
  {
   "cell_type": "code",
   "execution_count": 8,
   "metadata": {},
   "outputs": [],
   "source": [
    "train_count=pd.read_excel(\"train.basic.xlsx\")\n"
   ]
  },
  {
   "cell_type": "code",
   "execution_count": 9,
   "metadata": {},
   "outputs": [
    {
     "data": {
      "text/plain": [
       "Index(['count_of_Headline_unigram', 'count_of_unique_Headline_unigram',\n",
       "       'ratio_of_unique_Headline_unigram', 'count_of_Headline_bigram',\n",
       "       'count_of_unique_Headline_bigram', 'ratio_of_unique_Headline_bigram',\n",
       "       'count_of_Headline_trigram', 'count_of_unique_Headline_trigram',\n",
       "       'ratio_of_unique_Headline_trigram', 'count_of_articleBody_unigram',\n",
       "       'count_of_unique_articleBody_unigram',\n",
       "       'ratio_of_unique_articleBody_unigram', 'count_of_articleBody_bigram',\n",
       "       'count_of_unique_articleBody_bigram',\n",
       "       'ratio_of_unique_articleBody_bigram', 'count_of_articleBody_trigram',\n",
       "       'count_of_unique_articleBody_trigram',\n",
       "       'ratio_of_unique_articleBody_trigram',\n",
       "       'count_of_Headline_unigram_in_articleBody',\n",
       "       'ratio_of_Headline_unigram_in_articleBody',\n",
       "       'count_of_Headline_bigram_in_articleBody',\n",
       "       'ratio_of_Headline_bigram_in_articleBody',\n",
       "       'count_of_Headline_trigram_in_articleBody',\n",
       "       'ratio_of_Headline_trigram_in_articleBody', 'len_sent_Headline',\n",
       "       'len_sent_articleBody', 'fake_exist', 'fraud_exist', 'hoax_exist',\n",
       "       'false_exist', 'deny_exist', 'denies_exist', 'not_exist',\n",
       "       'despite_exist', 'nope_exist', 'doubt_exist', 'doubts_exist',\n",
       "       'bogus_exist', 'debunk_exist', 'pranks_exist', 'retract_exist'],\n",
       "      dtype='object')"
      ]
     },
     "execution_count": 9,
     "metadata": {},
     "output_type": "execute_result"
    }
   ],
   "source": [
    "train_count.columns"
   ]
  },
  {
   "cell_type": "code",
   "execution_count": 10,
   "metadata": {},
   "outputs": [],
   "source": [
    "no_word_head=train_count['count_of_Headline_unigram']\n",
    "no_word_body=train_count['count_of_articleBody_unigram']"
   ]
  },
  {
   "cell_type": "code",
   "execution_count": 12,
   "metadata": {},
   "outputs": [
    {
     "data": {
      "text/plain": [
       "44974"
      ]
     },
     "execution_count": 12,
     "metadata": {},
     "output_type": "execute_result"
    }
   ],
   "source": [
    "len(no_word_head)"
   ]
  },
  {
   "cell_type": "code",
   "execution_count": 11,
   "metadata": {},
   "outputs": [
    {
     "name": "stdout",
     "output_type": "stream",
     "text": [
      "the average no word in headline in training data 8.478854449237337\n",
      "the average no word in Body in training data 217.21672521901544\n"
     ]
    }
   ],
   "source": [
    "avg_no_word_head_train=sum(no_word_head)/len(no_word_head) # average number of words in headlines training data sets\n",
    "print(\"the average no word in headline in training data\",avg_no_word_head_train)\n",
    "avg_no_word_body=sum(no_word_body)/len(no_word_body) # average number of words in headlines\n",
    "print(\"the average no word in Body in training data\",avg_no_word_body)"
   ]
  },
  {
   "cell_type": "code",
   "execution_count": 130,
   "metadata": {},
   "outputs": [],
   "source": [
    "column_list  = train_count.columns"
   ]
  },
  {
   "cell_type": "code",
   "execution_count": 131,
   "metadata": {},
   "outputs": [
    {
     "data": {
      "text/plain": [
       "41"
      ]
     },
     "execution_count": 131,
     "metadata": {},
     "output_type": "execute_result"
    }
   ],
   "source": [
    "col_list=train_count.columns\n",
    "len(col_list)"
   ]
  },
  {
   "cell_type": "code",
   "execution_count": 132,
   "metadata": {},
   "outputs": [],
   "source": [
    "new_column_list = column_list[18:41] #+ column_list[10:15]"
   ]
  },
  {
   "cell_type": "code",
   "execution_count": 133,
   "metadata": {},
   "outputs": [
    {
     "name": "stdout",
     "output_type": "stream",
     "text": [
      "23\n"
     ]
    },
    {
     "data": {
      "text/plain": [
       "Index(['count_of_Headline_unigram_in_articleBody',\n",
       "       'ratio_of_Headline_unigram_in_articleBody',\n",
       "       'count_of_Headline_bigram_in_articleBody',\n",
       "       'ratio_of_Headline_bigram_in_articleBody',\n",
       "       'count_of_Headline_trigram_in_articleBody',\n",
       "       'ratio_of_Headline_trigram_in_articleBody', 'len_sent_Headline',\n",
       "       'len_sent_articleBody', 'fake_exist', 'fraud_exist', 'hoax_exist',\n",
       "       'false_exist', 'deny_exist', 'denies_exist', 'not_exist',\n",
       "       'despite_exist', 'nope_exist', 'doubt_exist', 'doubts_exist',\n",
       "       'bogus_exist', 'debunk_exist', 'pranks_exist', 'retract_exist'],\n",
       "      dtype='object')"
      ]
     },
     "execution_count": 133,
     "metadata": {},
     "output_type": "execute_result"
    }
   ],
   "source": [
    "print(len(new_column_list))\n",
    "new_column_list\n"
   ]
  },
  {
   "cell_type": "code",
   "execution_count": 134,
   "metadata": {},
   "outputs": [],
   "source": [
    "train_new = train_count[new_column_list]"
   ]
  },
  {
   "cell_type": "code",
   "execution_count": 135,
   "metadata": {},
   "outputs": [
    {
     "name": "stdout",
     "output_type": "stream",
     "text": [
      "(44974, 23)\n"
     ]
    }
   ],
   "source": [
    "print(train_new.shape)"
   ]
  },
  {
   "cell_type": "code",
   "execution_count": 136,
   "metadata": {},
   "outputs": [],
   "source": [
    "train_tfid=pd.read_excel(\"train.sim.tfidf.xlsx\")"
   ]
  },
  {
   "cell_type": "code",
   "execution_count": 137,
   "metadata": {},
   "outputs": [
    {
     "data": {
      "text/plain": [
       "Int64Index([0], dtype='int64')"
      ]
     },
     "execution_count": 137,
     "metadata": {},
     "output_type": "execute_result"
    }
   ],
   "source": [
    "train_tfid.columns"
   ]
  },
  {
   "cell_type": "code",
   "execution_count": 138,
   "metadata": {},
   "outputs": [
    {
     "data": {
      "text/plain": [
       "(44974, 1)"
      ]
     },
     "execution_count": 138,
     "metadata": {},
     "output_type": "execute_result"
    }
   ],
   "source": [
    "train_tfid.shape"
   ]
  },
  {
   "cell_type": "code",
   "execution_count": 139,
   "metadata": {},
   "outputs": [],
   "source": [
    "train_res= pd.concat([train_new ,train_tfid], axis=1)"
   ]
  },
  {
   "cell_type": "code",
   "execution_count": 140,
   "metadata": {},
   "outputs": [
    {
     "data": {
      "text/plain": [
       "(44974, 24)"
      ]
     },
     "execution_count": 140,
     "metadata": {},
     "output_type": "execute_result"
    }
   ],
   "source": [
    "train_res.shape"
   ]
  },
  {
   "cell_type": "code",
   "execution_count": 141,
   "metadata": {},
   "outputs": [],
   "source": [
    "train_svd_sim=pd.read_excel(\"train.sim.svd.xlsx\") \n",
    "train_svd_head=pd.read_excel(\"train.headline.svd.xlsx\") \n",
    "train_svd_body=pd.read_excel(\"train.body.svd.xlsx\") \n"
   ]
  },
  {
   "cell_type": "code",
   "execution_count": 142,
   "metadata": {},
   "outputs": [],
   "source": [
    "final_train_svd=pd.concat([train_svd_body, train_svd_head,train_svd_sim], axis=1)"
   ]
  },
  {
   "cell_type": "code",
   "execution_count": 143,
   "metadata": {},
   "outputs": [
    {
     "data": {
      "text/plain": [
       "(44974, 101)"
      ]
     },
     "execution_count": 143,
     "metadata": {},
     "output_type": "execute_result"
    }
   ],
   "source": [
    "final_train_svd.shape"
   ]
  },
  {
   "cell_type": "code",
   "execution_count": 144,
   "metadata": {},
   "outputs": [],
   "source": [
    "train_senti_head=pd.read_excel(\"train.headline.senti.xlsx\") \n",
    "train_senti_body=pd.read_excel(\"train.body.senti.xlsx\") \n"
   ]
  },
  {
   "cell_type": "code",
   "execution_count": 145,
   "metadata": {},
   "outputs": [
    {
     "data": {
      "text/plain": [
       "Index(['h_compound', 'h_neg', 'h_neu', 'h_pos'], dtype='object')"
      ]
     },
     "execution_count": 145,
     "metadata": {},
     "output_type": "execute_result"
    }
   ],
   "source": [
    "sent_column_list=train_senti_head.columns\n",
    "sent_column_list"
   ]
  },
  {
   "cell_type": "code",
   "execution_count": 146,
   "metadata": {},
   "outputs": [],
   "source": [
    "train_head_senti=train_senti_head[sent_column_list]"
   ]
  },
  {
   "cell_type": "code",
   "execution_count": 147,
   "metadata": {},
   "outputs": [
    {
     "data": {
      "text/plain": [
       "(44974, 4)"
      ]
     },
     "execution_count": 147,
     "metadata": {},
     "output_type": "execute_result"
    }
   ],
   "source": [
    "train_head_senti.shape"
   ]
  },
  {
   "cell_type": "code",
   "execution_count": 148,
   "metadata": {},
   "outputs": [
    {
     "data": {
      "text/plain": [
       "Index(['b_compound', 'b_neg', 'b_neu', 'b_pos'], dtype='object')"
      ]
     },
     "execution_count": 148,
     "metadata": {},
     "output_type": "execute_result"
    }
   ],
   "source": [
    "sent_column_list=train_senti_body.columns\n",
    "sent_column_list\n"
   ]
  },
  {
   "cell_type": "code",
   "execution_count": 149,
   "metadata": {},
   "outputs": [],
   "source": [
    "train_body_senti=train_senti_body[sent_column_list]"
   ]
  },
  {
   "cell_type": "code",
   "execution_count": 150,
   "metadata": {},
   "outputs": [
    {
     "data": {
      "text/plain": [
       "(44974, 4)"
      ]
     },
     "execution_count": 150,
     "metadata": {},
     "output_type": "execute_result"
    }
   ],
   "source": [
    "train_body_senti.shape"
   ]
  },
  {
   "cell_type": "code",
   "execution_count": 151,
   "metadata": {},
   "outputs": [],
   "source": [
    "final_senti=pd.concat([train_body_senti, train_head_senti], axis=1)"
   ]
  },
  {
   "cell_type": "code",
   "execution_count": 152,
   "metadata": {},
   "outputs": [],
   "source": [
    "train_res= pd.concat([train_res, final_train_svd,final_senti], axis=1)"
   ]
  },
  {
   "cell_type": "code",
   "execution_count": 153,
   "metadata": {},
   "outputs": [
    {
     "data": {
      "text/plain": [
       "(44974, 133)"
      ]
     },
     "execution_count": 153,
     "metadata": {},
     "output_type": "execute_result"
    }
   ],
   "source": [
    "train_res.shape"
   ]
  },
  {
   "cell_type": "code",
   "execution_count": 156,
   "metadata": {},
   "outputs": [],
   "source": [
    "train_res.to_excel(\"FNC_Bin_train_merged_talo_feature.xlsx\",index=False)"
   ]
  },
  {
   "cell_type": "code",
   "execution_count": 158,
   "metadata": {},
   "outputs": [],
   "source": [
    "NS=pd.read_excel(\"FNC_Bin_train_merged_talo_feature.xlsx\")"
   ]
  },
  {
   "cell_type": "code",
   "execution_count": 169,
   "metadata": {},
   "outputs": [
    {
     "data": {
      "text/html": [
       "<div>\n",
       "<style scoped>\n",
       "    .dataframe tbody tr th:only-of-type {\n",
       "        vertical-align: middle;\n",
       "    }\n",
       "\n",
       "    .dataframe tbody tr th {\n",
       "        vertical-align: top;\n",
       "    }\n",
       "\n",
       "    .dataframe thead th {\n",
       "        text-align: right;\n",
       "    }\n",
       "</style>\n",
       "<table border=\"1\" class=\"dataframe\">\n",
       "  <thead>\n",
       "    <tr style=\"text-align: right;\">\n",
       "      <th></th>\n",
       "      <th>count_of_Headline_unigram_in_articleBody</th>\n",
       "      <th>ratio_of_Headline_unigram_in_articleBody</th>\n",
       "      <th>count_of_Headline_bigram_in_articleBody</th>\n",
       "      <th>ratio_of_Headline_bigram_in_articleBody</th>\n",
       "      <th>count_of_Headline_trigram_in_articleBody</th>\n",
       "      <th>ratio_of_Headline_trigram_in_articleBody</th>\n",
       "      <th>len_sent_Headline</th>\n",
       "      <th>len_sent_articleBody</th>\n",
       "      <th>fake_exist</th>\n",
       "      <th>fraud_exist</th>\n",
       "      <th>...</th>\n",
       "      <th>49.1</th>\n",
       "      <th>0.3</th>\n",
       "      <th>b_compound</th>\n",
       "      <th>b_neg</th>\n",
       "      <th>b_neu</th>\n",
       "      <th>b_pos</th>\n",
       "      <th>h_compound</th>\n",
       "      <th>h_neg</th>\n",
       "      <th>h_neu</th>\n",
       "      <th>h_pos</th>\n",
       "    </tr>\n",
       "  </thead>\n",
       "  <tbody>\n",
       "    <tr>\n",
       "      <th>44000</th>\n",
       "      <td>1</td>\n",
       "      <td>0.166667</td>\n",
       "      <td>0</td>\n",
       "      <td>0.0</td>\n",
       "      <td>0</td>\n",
       "      <td>0.0</td>\n",
       "      <td>1</td>\n",
       "      <td>10</td>\n",
       "      <td>0</td>\n",
       "      <td>0</td>\n",
       "      <td>...</td>\n",
       "      <td>0.008353</td>\n",
       "      <td>-0.010263</td>\n",
       "      <td>0.04268</td>\n",
       "      <td>0.0366</td>\n",
       "      <td>0.8353</td>\n",
       "      <td>0.1281</td>\n",
       "      <td>0.0</td>\n",
       "      <td>0.0</td>\n",
       "      <td>1.0</td>\n",
       "      <td>0.0</td>\n",
       "    </tr>\n",
       "  </tbody>\n",
       "</table>\n",
       "<p>1 rows × 133 columns</p>\n",
       "</div>"
      ],
      "text/plain": [
       "       count_of_Headline_unigram_in_articleBody  \\\n",
       "44000                                         1   \n",
       "\n",
       "       ratio_of_Headline_unigram_in_articleBody  \\\n",
       "44000                                  0.166667   \n",
       "\n",
       "       count_of_Headline_bigram_in_articleBody  \\\n",
       "44000                                        0   \n",
       "\n",
       "       ratio_of_Headline_bigram_in_articleBody  \\\n",
       "44000                                      0.0   \n",
       "\n",
       "       count_of_Headline_trigram_in_articleBody  \\\n",
       "44000                                         0   \n",
       "\n",
       "       ratio_of_Headline_trigram_in_articleBody  len_sent_Headline  \\\n",
       "44000                                       0.0                  1   \n",
       "\n",
       "       len_sent_articleBody  fake_exist  fraud_exist  ...      49.1       0.3  \\\n",
       "44000                    10           0            0  ...  0.008353 -0.010263   \n",
       "\n",
       "       b_compound   b_neg   b_neu   b_pos  h_compound  h_neg  h_neu  h_pos  \n",
       "44000     0.04268  0.0366  0.8353  0.1281         0.0    0.0    1.0    0.0  \n",
       "\n",
       "[1 rows x 133 columns]"
      ]
     },
     "execution_count": 169,
     "metadata": {},
     "output_type": "execute_result"
    }
   ],
   "source": [
    "NS.iloc[[44000]]"
   ]
  },
  {
   "cell_type": "code",
   "execution_count": 170,
   "metadata": {},
   "outputs": [],
   "source": [
    "a=NS.iloc[[44000]]"
   ]
  },
  {
   "cell_type": "code",
   "execution_count": 171,
   "metadata": {},
   "outputs": [
    {
     "name": "stdout",
     "output_type": "stream",
     "text": [
      "(1, 133)\n"
     ]
    },
    {
     "data": {
      "text/html": [
       "<div>\n",
       "<style scoped>\n",
       "    .dataframe tbody tr th:only-of-type {\n",
       "        vertical-align: middle;\n",
       "    }\n",
       "\n",
       "    .dataframe tbody tr th {\n",
       "        vertical-align: top;\n",
       "    }\n",
       "\n",
       "    .dataframe thead th {\n",
       "        text-align: right;\n",
       "    }\n",
       "</style>\n",
       "<table border=\"1\" class=\"dataframe\">\n",
       "  <thead>\n",
       "    <tr style=\"text-align: right;\">\n",
       "      <th></th>\n",
       "      <th>count_of_Headline_unigram_in_articleBody</th>\n",
       "      <th>ratio_of_Headline_unigram_in_articleBody</th>\n",
       "      <th>count_of_Headline_bigram_in_articleBody</th>\n",
       "      <th>ratio_of_Headline_bigram_in_articleBody</th>\n",
       "      <th>count_of_Headline_trigram_in_articleBody</th>\n",
       "      <th>ratio_of_Headline_trigram_in_articleBody</th>\n",
       "      <th>len_sent_Headline</th>\n",
       "      <th>len_sent_articleBody</th>\n",
       "      <th>fake_exist</th>\n",
       "      <th>fraud_exist</th>\n",
       "      <th>...</th>\n",
       "      <th>49.1</th>\n",
       "      <th>0.3</th>\n",
       "      <th>b_compound</th>\n",
       "      <th>b_neg</th>\n",
       "      <th>b_neu</th>\n",
       "      <th>b_pos</th>\n",
       "      <th>h_compound</th>\n",
       "      <th>h_neg</th>\n",
       "      <th>h_neu</th>\n",
       "      <th>h_pos</th>\n",
       "    </tr>\n",
       "  </thead>\n",
       "  <tbody>\n",
       "    <tr>\n",
       "      <th>44000</th>\n",
       "      <td>1</td>\n",
       "      <td>0.166667</td>\n",
       "      <td>0</td>\n",
       "      <td>0.0</td>\n",
       "      <td>0</td>\n",
       "      <td>0.0</td>\n",
       "      <td>1</td>\n",
       "      <td>10</td>\n",
       "      <td>0</td>\n",
       "      <td>0</td>\n",
       "      <td>...</td>\n",
       "      <td>0.008353</td>\n",
       "      <td>-0.010263</td>\n",
       "      <td>0.04268</td>\n",
       "      <td>0.0366</td>\n",
       "      <td>0.8353</td>\n",
       "      <td>0.1281</td>\n",
       "      <td>0.0</td>\n",
       "      <td>0.0</td>\n",
       "      <td>1.0</td>\n",
       "      <td>0.0</td>\n",
       "    </tr>\n",
       "  </tbody>\n",
       "</table>\n",
       "<p>1 rows × 133 columns</p>\n",
       "</div>"
      ],
      "text/plain": [
       "       count_of_Headline_unigram_in_articleBody  \\\n",
       "44000                                         1   \n",
       "\n",
       "       ratio_of_Headline_unigram_in_articleBody  \\\n",
       "44000                                  0.166667   \n",
       "\n",
       "       count_of_Headline_bigram_in_articleBody  \\\n",
       "44000                                        0   \n",
       "\n",
       "       ratio_of_Headline_bigram_in_articleBody  \\\n",
       "44000                                      0.0   \n",
       "\n",
       "       count_of_Headline_trigram_in_articleBody  \\\n",
       "44000                                         0   \n",
       "\n",
       "       ratio_of_Headline_trigram_in_articleBody  len_sent_Headline  \\\n",
       "44000                                       0.0                  1   \n",
       "\n",
       "       len_sent_articleBody  fake_exist  fraud_exist  ...      49.1       0.3  \\\n",
       "44000                    10           0            0  ...  0.008353 -0.010263   \n",
       "\n",
       "       b_compound   b_neg   b_neu   b_pos  h_compound  h_neg  h_neu  h_pos  \n",
       "44000     0.04268  0.0366  0.8353  0.1281         0.0    0.0    1.0    0.0  \n",
       "\n",
       "[1 rows x 133 columns]"
      ]
     },
     "execution_count": 171,
     "metadata": {},
     "output_type": "execute_result"
    }
   ],
   "source": [
    "print(a.shape)\n",
    "a"
   ]
  },
  {
   "cell_type": "code",
   "execution_count": 172,
   "metadata": {},
   "outputs": [
    {
     "data": {
      "text/plain": [
       "1"
      ]
     },
     "execution_count": 172,
     "metadata": {},
     "output_type": "execute_result"
    }
   ],
   "source": [
    "len(a)"
   ]
  },
  {
   "cell_type": "code",
   "execution_count": 176,
   "metadata": {},
   "outputs": [
    {
     "name": "stdout",
     "output_type": "stream",
     "text": [
      "count_of_Headline_unigram_in_articleBody    2.00000\n",
      "ratio_of_Headline_unigram_in_articleBody    0.12500\n",
      "count_of_Headline_bigram_in_articleBody     0.00000\n",
      "ratio_of_Headline_bigram_in_articleBody     0.00000\n",
      "count_of_Headline_trigram_in_articleBody    0.00000\n",
      "                                             ...   \n",
      "b_pos                                       0.02735\n",
      "h_compound                                  0.00000\n",
      "h_neg                                       0.00000\n",
      "h_neu                                       1.00000\n",
      "h_pos                                       0.00000\n",
      "Name: 1, Length: 133, dtype: float64\n"
     ]
    }
   ],
   "source": [
    "a= print(NS.iloc[1])\n"
   ]
  },
  {
   "cell_type": "code",
   "execution_count": 180,
   "metadata": {},
   "outputs": [
    {
     "name": "stdout",
     "output_type": "stream",
     "text": [
      "   count_of_Headline_unigram_in_articleBody  \\\n",
      "1                                         2   \n",
      "\n",
      "   ratio_of_Headline_unigram_in_articleBody  \\\n",
      "1                                     0.125   \n",
      "\n",
      "   count_of_Headline_bigram_in_articleBody  \\\n",
      "1                                        0   \n",
      "\n",
      "   ratio_of_Headline_bigram_in_articleBody  \\\n",
      "1                                      0.0   \n",
      "\n",
      "   count_of_Headline_trigram_in_articleBody  \\\n",
      "1                                         0   \n",
      "\n",
      "   ratio_of_Headline_trigram_in_articleBody  len_sent_Headline  \\\n",
      "1                                       0.0                  1   \n",
      "\n",
      "   len_sent_articleBody  fake_exist  fraud_exist  ...      49.1       0.3  \\\n",
      "1                    40           0            0  ...  0.001688  0.218045   \n",
      "\n",
      "   b_compound     b_neg     b_neu    b_pos  h_compound  h_neg  h_neu  h_pos  \n",
      "1   -0.204145  0.107275  0.865375  0.02735         0.0    0.0    1.0    0.0  \n",
      "\n",
      "[1 rows x 133 columns]\n"
     ]
    }
   ],
   "source": [
    "print(NS.iloc[[1]])"
   ]
  },
  {
   "cell_type": "code",
   "execution_count": 181,
   "metadata": {},
   "outputs": [
    {
     "name": "stdout",
     "output_type": "stream",
     "text": [
      "count_of_Headline_unigram_in_articleBody    2.00000\n",
      "ratio_of_Headline_unigram_in_articleBody    0.12500\n",
      "count_of_Headline_bigram_in_articleBody     0.00000\n",
      "ratio_of_Headline_bigram_in_articleBody     0.00000\n",
      "count_of_Headline_trigram_in_articleBody    0.00000\n",
      "                                             ...   \n",
      "b_pos                                       0.02735\n",
      "h_compound                                  0.00000\n",
      "h_neg                                       0.00000\n",
      "h_neu                                       1.00000\n",
      "h_pos                                       0.00000\n",
      "Name: 1, Length: 133, dtype: float64\n"
     ]
    }
   ],
   "source": [
    "print(NS.iloc[1])"
   ]
  }
 ],
 "metadata": {
  "kernelspec": {
   "display_name": "Python 3 (ipykernel)",
   "language": "python",
   "name": "python3"
  },
  "language_info": {
   "codemirror_mode": {
    "name": "ipython",
    "version": 3
   },
   "file_extension": ".py",
   "mimetype": "text/x-python",
   "name": "python",
   "nbconvert_exporter": "python",
   "pygments_lexer": "ipython3",
   "version": "3.7.11"
  }
 },
 "nbformat": 4,
 "nbformat_minor": 2
}
